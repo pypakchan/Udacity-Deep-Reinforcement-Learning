{
 "cells": [
  {
   "cell_type": "markdown",
   "metadata": {},
   "source": [
    "# Deep Q-Network (DQN)\n",
    "---\n",
    "In this notebook, you will implement a DQN agent with OpenAI Gym's LunarLander-v2 environment.\n",
    "\n",
    "### 1. Import the Necessary Packages"
   ]
  },
  {
   "cell_type": "code",
   "execution_count": 1,
   "metadata": {},
   "outputs": [],
   "source": [
    "import gym\n",
    "import random\n",
    "import torch\n",
    "import numpy as np\n",
    "from collections import deque\n",
    "import matplotlib.pyplot as plt\n",
    "%matplotlib inline"
   ]
  },
  {
   "cell_type": "markdown",
   "metadata": {},
   "source": [
    "### 2. Instantiate the Environment and Agent\n",
    "\n",
    "Initialize the environment in the code cell below."
   ]
  },
  {
   "cell_type": "code",
   "execution_count": 2,
   "metadata": {},
   "outputs": [
    {
     "name": "stdout",
     "output_type": "stream",
     "text": [
      "State shape:  (8,)\n",
      "Number of actions:  4\n"
     ]
    }
   ],
   "source": [
    "env = gym.make('LunarLander-v2')\n",
    "env.seed(0)\n",
    "print('State shape: ', env.observation_space.shape)\n",
    "print('Number of actions: ', env.action_space.n)"
   ]
  },
  {
   "cell_type": "markdown",
   "metadata": {},
   "source": [
    "Please refer to the instructions in `Deep_Q_Network.ipynb` if you would like to write your own DQN agent.  Otherwise, run the code cell below to load the solution files."
   ]
  },
  {
   "cell_type": "code",
   "execution_count": 3,
   "metadata": {},
   "outputs": [],
   "source": [
    "from dqn_agent import Agent\n",
    "\n",
    "agent = Agent(state_size=8, action_size=4, seed=0)\n",
    "\n",
    "# watch an untrained agent\n",
    "state = env.reset()\n",
    "for j in range(200):\n",
    "    action = agent.act(state)\n",
    "    env.render()\n",
    "    state, reward, done, _ = env.step(action)\n",
    "    if done:\n",
    "        break \n",
    "        \n",
    "env.close()"
   ]
  },
  {
   "cell_type": "markdown",
   "metadata": {},
   "source": [
    "### 3. Train the Agent with DQN\n",
    "\n",
    "Run the code cell below to train the agent from scratch.  You are welcome to amend the supplied values of the parameters in the function, to try to see if you can get better performance!\n",
    "\n",
    "Alternatively, you can skip to the next step below (**4. Watch a Smart Agent!**), to load the saved model weights from a pre-trained agent."
   ]
  },
  {
   "cell_type": "code",
   "execution_count": 4,
   "metadata": {},
   "outputs": [
    {
     "name": "stdout",
     "output_type": "stream",
     "text": [
      "Episode 100\tAverage Score: -173.74\n",
      "Episode 200\tAverage Score: -118.24\n",
      "Episode 300\tAverage Score: -69.939\n",
      "Episode 400\tAverage Score: -15.94\n",
      "Episode 500\tAverage Score: 83.288\n",
      "Episode 600\tAverage Score: 34.05\n",
      "Episode 700\tAverage Score: 125.70\n",
      "Episode 800\tAverage Score: 155.11\n",
      "Episode 900\tAverage Score: 160.12\n",
      "Episode 1000\tAverage Score: 131.18\n",
      "Episode 1100\tAverage Score: 195.74\n",
      "Episode 1200\tAverage Score: 185.37\n",
      "Episode 1300\tAverage Score: 168.44\n",
      "Episode 1400\tAverage Score: 230.33\n",
      "Episode 1500\tAverage Score: 242.42\n",
      "Episode 1600\tAverage Score: 249.74\n",
      "Episode 1700\tAverage Score: 252.73\n",
      "Episode 1800\tAverage Score: 240.11\n",
      "Episode 1900\tAverage Score: 241.85\n",
      "Episode 2000\tAverage Score: 251.22\n",
      "Episode 2100\tAverage Score: 250.53\n",
      "Episode 2200\tAverage Score: 241.75\n",
      "Episode 2300\tAverage Score: 231.11\n",
      "Episode 2400\tAverage Score: 238.04\n",
      "Episode 2500\tAverage Score: 234.84\n",
      "Episode 2600\tAverage Score: 233.48\n",
      "Episode 2700\tAverage Score: 222.31\n",
      "Episode 2800\tAverage Score: 227.40\n",
      "Episode 2900\tAverage Score: 248.66\n",
      "Episode 3000\tAverage Score: 253.91\n",
      "Episode 3100\tAverage Score: 244.62\n",
      "Episode 3200\tAverage Score: 264.40\n",
      "Episode 3300\tAverage Score: 265.90\n",
      "Episode 3400\tAverage Score: 270.97\n",
      "Episode 3500\tAverage Score: 267.65\n",
      "Episode 3600\tAverage Score: 267.65\n",
      "Episode 3700\tAverage Score: 252.54\n",
      "Episode 3800\tAverage Score: 240.54\n",
      "Episode 3900\tAverage Score: 266.23\n",
      "Episode 4000\tAverage Score: 274.22\n",
      "Episode 4100\tAverage Score: 274.06\n",
      "Episode 4200\tAverage Score: 270.61\n",
      "Episode 4300\tAverage Score: 278.62\n",
      "Episode 4400\tAverage Score: 273.36\n",
      "Episode 4500\tAverage Score: 265.35\n",
      "Episode 4600\tAverage Score: 269.96\n",
      "Episode 4700\tAverage Score: 272.36\n",
      "Episode 4800\tAverage Score: 276.01\n",
      "Episode 4900\tAverage Score: 269.60\n",
      "Episode 5000\tAverage Score: 260.90\n",
      "Episode 5100\tAverage Score: 257.87\n",
      "Episode 5200\tAverage Score: 259.36\n",
      "Episode 5300\tAverage Score: 262.53\n",
      "Episode 5400\tAverage Score: 267.31\n",
      "Episode 5500\tAverage Score: 269.58\n",
      "Episode 5600\tAverage Score: 273.07\n",
      "Episode 5700\tAverage Score: 265.78\n",
      "Episode 5800\tAverage Score: 262.27\n",
      "Episode 5900\tAverage Score: 269.05\n",
      "Episode 6000\tAverage Score: 262.65\n",
      "Episode 6100\tAverage Score: 259.75\n",
      "Episode 6200\tAverage Score: 265.83\n",
      "Episode 6300\tAverage Score: 267.61\n",
      "Episode 6400\tAverage Score: 261.34\n",
      "Episode 6500\tAverage Score: 270.06\n",
      "Episode 6600\tAverage Score: 260.01\n",
      "Episode 6700\tAverage Score: 270.06\n",
      "Episode 6800\tAverage Score: 268.95\n",
      "Episode 6900\tAverage Score: 263.68\n",
      "Episode 7000\tAverage Score: 256.48\n",
      "Episode 7100\tAverage Score: 271.71\n",
      "Episode 7200\tAverage Score: 269.38\n",
      "Episode 7300\tAverage Score: 273.45\n",
      "Episode 7400\tAverage Score: 274.16\n",
      "Episode 7500\tAverage Score: 276.45\n",
      "Episode 7600\tAverage Score: 276.20\n",
      "Episode 7700\tAverage Score: 280.09\n",
      "Episode 7800\tAverage Score: 276.44\n",
      "Episode 7900\tAverage Score: 280.42\n",
      "Episode 8000\tAverage Score: 273.17\n",
      "Episode 8100\tAverage Score: 278.76\n",
      "Episode 8200\tAverage Score: 268.59\n",
      "Episode 8300\tAverage Score: 237.86\n",
      "Episode 8400\tAverage Score: 223.90\n",
      "Episode 8500\tAverage Score: 216.52\n",
      "Episode 8600\tAverage Score: 244.03\n",
      "Episode 8700\tAverage Score: 229.36\n",
      "Episode 8800\tAverage Score: 253.84\n",
      "Episode 8900\tAverage Score: 253.94\n",
      "Episode 9000\tAverage Score: 271.75\n",
      "Episode 9100\tAverage Score: 270.73\n",
      "Episode 9200\tAverage Score: 266.72\n",
      "Episode 9300\tAverage Score: 260.37\n",
      "Episode 9400\tAverage Score: 274.79\n",
      "Episode 9500\tAverage Score: 284.14\n",
      "Episode 9600\tAverage Score: 276.84\n",
      "Episode 9700\tAverage Score: 261.77\n",
      "Episode 9800\tAverage Score: 246.93\n",
      "Episode 9900\tAverage Score: 247.64\n",
      "Episode 10000\tAverage Score: 279.82\n"
     ]
    },
    {
     "data": {
      "image/png": "[encoded data removed]",
      "text/plain": [
       "<Figure size 432x288 with 1 Axes>"
      ]
     },
     "metadata": {
      "needs_background": "light"
     },
     "output_type": "display_data"
    }
   ],
   "source": [
    "def dqn(n_episodes=10000, max_t=1000, eps_start=1.0, eps_end=0.01, eps_decay=0.995):\n",
    "    \"\"\"Deep Q-Learning.\n",
    "    \n",
    "    Params\n",
    "    ======\n",
    "        n_episodes (int): maximum number of training episodes\n",
    "        max_t (int): maximum number of timesteps per episode\n",
    "        eps_start (float): starting value of epsilon, for epsilon-greedy action selection\n",
    "        eps_end (float): minimum value of epsilon\n",
    "        eps_decay (float): multiplicative factor (per episode) for decreasing epsilon\n",
    "    \"\"\"\n",
    "    scores = []                        # list containing scores from each episode\n",
    "    scores_window = deque(maxlen=100)  # last 100 scores\n",
    "    eps = eps_start                    # initialize epsilon\n",
    "    for i_episode in range(1, n_episodes+1):\n",
    "        state = env.reset()\n",
    "        score = 0\n",
    "        for t in range(max_t):\n",
    "            action = agent.act(state, eps)\n",
    "            next_state, reward, done, _ = env.step(action)\n",
    "            agent.step(state, action, reward, next_state, done)\n",
    "            state = next_state\n",
    "            score += reward\n",
    "            if done:\n",
    "                break \n",
    "        scores_window.append(score)       # save most recent score\n",
    "        scores.append(score)              # save most recent score\n",
    "        eps = max(eps_end, eps_decay*eps) # decrease epsilon\n",
    "        print('\\rEpisode {}\\tAverage Score: {:.2f}'.format(i_episode, np.mean(scores_window)), end=\"\")\n",
    "        if i_episode % 100 == 0:\n",
    "            print('\\rEpisode {}\\tAverage Score: {:.2f}'.format(i_episode, np.mean(scores_window)))\n",
    "        if np.mean(scores_window)>=500.0:\n",
    "            print('\\nEnvironment solved in {:d} episodes!\\tAverage Score: {:.2f}'.format(i_episode-100, np.mean(scores_window)))\n",
    "            torch.save(agent.qnetwork_local.state_dict(), 'checkpoint.pth')\n",
    "            break\n",
    "    return scores\n",
    "\n",
    "scores = dqn()\n",
    "\n",
    "# plot the scores\n",
    "fig = plt.figure()\n",
    "ax = fig.add_subplot(111)\n",
    "plt.plot(np.arange(len(scores)), scores)\n",
    "plt.ylabel('Score')\n",
    "plt.xlabel('Episode #')\n",
    "plt.show()"
   ]
  },
  {
   "cell_type": "markdown",
   "metadata": {},
   "source": [
    "### 4. Watch a Smart Agent!\n",
    "\n",
    "In the next code cell, you will load the trained weights from file to watch a smart agent!"
   ]
  },
  {
   "cell_type": "code",
   "execution_count": 5,
   "metadata": {},
   "outputs": [],
   "source": [
    "# load the weights from file\n",
    "agent.qnetwork_local.load_state_dict(torch.load('checkpoint.pth'))\n",
    "\n",
    "for i in range(3):\n",
    "    state = env.reset()\n",
    "    for j in range(500):\n",
    "        action = agent.act(state)\n",
    "        env.render()\n",
    "        state, reward, done, _ = env.step(action)\n",
    "        if done:\n",
    "            break \n",
    "            \n",
    "env.close()"
   ]
  },
  {
   "cell_type": "markdown",
   "metadata": {},
   "source": [
    "### 5. Explore\n",
    "\n",
    "In this exercise, you have implemented a DQN agent and demonstrated how to use it to solve an OpenAI Gym environment.  To continue your learning, you are encouraged to complete any (or all!) of the following tasks:\n",
    "- Amend the various hyperparameters and network architecture to see if you can get your agent to solve the environment faster.  Once you build intuition for the hyperparameters that work well with this environment, try solving a different OpenAI Gym task with discrete actions!\n",
    "- You may like to implement some improvements such as prioritized experience replay, Double DQN, or Dueling DQN! \n",
    "- Write a blog post explaining the intuition behind the DQN algorithm and demonstrating how to use it to solve an RL environment of your choosing.  "
   ]
  }
 ],
 "metadata": {
  "kernelspec": {
   "display_name": "rf",
   "language": "python",
   "name": "rf"
  },
  "language_info": {
   "codemirror_mode": {
    "name": "ipython",
    "version": 3
   },
   "file_extension": ".py",
   "mimetype": "text/x-python",
   "name": "python",
   "nbconvert_exporter": "python",
   "pygments_lexer": "ipython3",
   "version": "3.9.7"
  }
 },
 "nbformat": 4,
 "nbformat_minor": 4
}
